{
  "cells": [
    {
      "cell_type": "code",
      "execution_count": 1,
      "metadata": {
        "id": "3Wu3q3aMmgi8"
      },
      "outputs": [],
      "source": [
        "import numpy as np\n",
        "import tensorflow as tf\n",
        "from skimage.transform import resize\n",
        "from tensorflow.keras.applications import ResNet50\n",
        "from tensorflow.keras import layers, models, optimizers\n",
        "from tensorflow.keras.preprocessing.image import ImageDataGenerator\n",
        "from sklearn.model_selection import train_test_split\n",
        "from keras.src import layers\n",
        "from tensorflow.keras.preprocessing.image import load_img, img_to_array\n",
        "from keras.callbacks import EarlyStopping\n",
        "import os"
      ]
    },
    {
      "cell_type": "code",
      "execution_count": 4,
      "metadata": {
        "id": "F5eyp6Quml8r"
      },
      "outputs": [],
      "source": [
        "#Preparation of the data, Y component\n",
        "\n",
        "#Because the data is stored in a single .txt file with consistent formating, we can just parse it\n",
        "\n",
        "text_path_base = 'C:/ML Data/MIAS/MIASduplicatesRemoved.txt' #Hardcoded path. Modify if needed\n",
        "image_path_base = 'C:/ML Data/MIAS/all-mias'\n",
        "\n",
        "tempDataArray = []\n",
        "tempImageArray = []\n",
        "\n",
        "with open(text_path_base) as f:\n",
        "  f.readline() #skip first line\n",
        "  for line in f:\n",
        "    filename = line[0:6] + \".pgm\"\n",
        "\n",
        "    imagefilepath = os.path.join(image_path_base, filename)\n",
        "\n",
        "    if os.path.isfile(imagefilepath) and filename.endswith('.pgm'):\n",
        "      try:\n",
        "        if line[14] == 'B':\n",
        "          tempDataArray.append(np.array(0))\n",
        "          tempImageArray.append(imagefilepath)\n",
        "\n",
        "        elif line[14] == 'M':\n",
        "          tempDataArray.append(np.array(1))\n",
        "          tempImageArray.append(imagefilepath)\n",
        "      except:\n",
        "        print(line)\n",
        "\n",
        "\n",
        "\n",
        "tempImageArray = np.array(tempImageArray)\n",
        "tempDataArray = np.array(tempDataArray)\n"
      ]
    },
    {
      "cell_type": "code",
      "execution_count": 5,
      "metadata": {},
      "outputs": [],
      "source": [
        "class DataGenerator:\n",
        "    def __init__(self, image_paths, labels, batch_size=32, augment=False):\n",
        "        self.image_paths = image_paths\n",
        "        self.labels = labels\n",
        "        self.batch_size = batch_size\n",
        "        self.augment = augment\n",
        "        self.datagen = ImageDataGenerator(\n",
        "            rotation_range=20,\n",
        "            zoom_range=0.1,\n",
        "            horizontal_flip=True\n",
        "        ) if augment else None\n",
        "\n",
        "    def __len__(self):\n",
        "        return int(np.ceil(len(self.image_paths) / self.batch_size))\n",
        "\n",
        "    def __getitem__(self, idx):\n",
        "        batch_paths = self.image_paths[idx * self.batch_size:(idx + 1) * self.batch_size]\n",
        "        batch_labels = self.labels[idx * self.batch_size:(idx + 1) * self.batch_size]\n",
        "\n",
        "        batch_images = []\n",
        "        for path in batch_paths:\n",
        "\n",
        "            img = load_img(path, color_mode='rgb')\n",
        "            img_array = img_to_array(img)\n",
        "            img_tensor = tf.convert_to_tensor(img_array)\n",
        "            img = tf.image.resize_with_pad(img_tensor, 600, 600)\n",
        "            batch_images.append(img)\n",
        "\n",
        "        X = np.array(batch_images)\n",
        "        y = np.array(batch_labels).reshape(-1, 1)\n",
        "\n",
        "        if self.augment:\n",
        "            for i in range(len(X)):\n",
        "                if np.random.random() > 0.5:\n",
        "                    X[i] = self.datagen.random_transform(X[i])\n",
        "\n",
        "        return X, y\n",
        "\n",
        "    def generate(self):\n",
        "        while True:\n",
        "            indices = np.random.permutation(len(self.image_paths))\n",
        "            self.image_paths = self.image_paths[indices]\n",
        "            self.labels = self.labels[indices]\n",
        "\n",
        "            for i in range(len(self)):\n",
        "                yield self.__getitem__(i)\n",
        "\n",
        "test_gen = DataGenerator(tempImageArray, tempDataArray, batch_size=32, augment=False)"
      ]
    },
    {
      "cell_type": "code",
      "execution_count": 6,
      "metadata": {
        "id": "gdZg_g4Im8Tc"
      },
      "outputs": [
        {
          "name": "stdout",
          "output_type": "stream",
          "text": [
            "\n",
            "--- Custom RNN Dropout and L2 And Oversampling Classification Report ---\n",
            "              precision    recall  f1-score   support\n",
            "\n",
            "      Benign       0.47      0.15      0.23        59\n",
            "   Malignant       0.44      0.80      0.57        49\n",
            "\n",
            "    accuracy                           0.44       108\n",
            "   macro avg       0.46      0.47      0.40       108\n",
            "weighted avg       0.46      0.44      0.38       108\n",
            "\n",
            "Confusion matrix saved to: C:\\Users\\gabel\\Desktop\\Models to Evaluate\\Graph Images\\DropoutANDL2AndOverSamplingCM.png\n",
            "ROC curve saved to: C:\\Users\\gabel\\Desktop\\Models to Evaluate\\Graph Images\\DropOutANDL2AndOverSamplingROC.png\n",
            "\n",
            " Final Accuracy: 0.4444, AUC: 0.4905\n",
            "\n",
            "Confusion Matrix:\n",
            "[[ 9 50]\n",
            " [10 39]]\n"
          ]
        }
      ],
      "source": [
        "import matplotlib.pyplot as plt\n",
        "from sklearn.metrics import classification_report, roc_curve, auc, confusion_matrix\n",
        "from tensorflow.keras.models import load_model\n",
        "\n",
        "# Load best saved weights\n",
        "model = tf.keras.models.load_model(r'C:\\Users\\gabel\\Desktop\\Models to Evaluate\\dropoutandl2andoversampling.keras')\n",
        "#print(\"Best weights loaded for evaluation.\")\n",
        "\n",
        "def evaluate_model(model, generator, steps, model_name=\"Model\"):\n",
        "    if hasattr(generator, 'on_epoch_end'):\n",
        "        generator.on_epoch_end()\n",
        "\n",
        "    y_true = []\n",
        "    y_pred_prob = []\n",
        "\n",
        "    for i in range(steps):\n",
        "        if hasattr(generator, '__getitem__'):\n",
        "            batch_x, batch_y = generator.__getitem__(i)\n",
        "        else:\n",
        "            batch_x, batch_y = next(generator.generate())\n",
        "\n",
        "        batch_pred = model.predict(batch_x, verbose=0)\n",
        "\n",
        "        y_true.extend(batch_y)\n",
        "        y_pred_prob.extend(batch_pred)\n",
        "\n",
        "    y_true = np.array(y_true).flatten()\n",
        "    y_pred_prob = np.array(y_pred_prob).flatten()\n",
        "\n",
        "    y_pred = (y_pred_prob > 0.5).astype(int)\n",
        "\n",
        "    # --- Classification Report ---\n",
        "    print(f\"\\n--- {model_name} Classification Report ---\")\n",
        "    print(classification_report(y_true, y_pred, target_names=['Benign', 'Malignant']))\n",
        "\n",
        "    # --- Confusion Matrix ---\n",
        "    cm = confusion_matrix(y_true, y_pred)\n",
        "    plt.figure(figsize=(6, 5))\n",
        "    plt.imshow(cm, interpolation='nearest', cmap=plt.cm.Blues)\n",
        "    plt.title(f'{model_name} Confusion Matrix')\n",
        "    plt.colorbar()\n",
        "    tick_marks = np.arange(2)\n",
        "    plt.xticks(tick_marks, ['Benign', 'Malignant'], rotation=45)\n",
        "    plt.yticks(tick_marks, ['Benign', 'Malignant'])\n",
        "\n",
        "    thresh = cm.max() / 2.\n",
        "    for i in range(2):\n",
        "        for j in range(2):\n",
        "            plt.text(j, i, format(cm[i, j], 'd'),\n",
        "                     ha=\"center\", va=\"center\",\n",
        "                     color=\"white\" if cm[i, j] > thresh else \"black\")\n",
        "\n",
        "    plt.ylabel('Actual')\n",
        "    plt.xlabel('Predicted')\n",
        "    plt.tight_layout()\n",
        "\n",
        "    cm_path = fr'C:\\Users\\gabel\\Desktop\\Models to Evaluate\\Graph Images\\DropoutANDL2AndOverSamplingCM.png'\n",
        "    plt.savefig(cm_path)\n",
        "    print(f\"Confusion matrix saved to: {cm_path}\")\n",
        "    plt.close()\n",
        "\n",
        "    # --- ROC Curve ---\n",
        "    fpr, tpr, _ = roc_curve(y_true, y_pred_prob)\n",
        "    roc_auc = auc(fpr, tpr)\n",
        "\n",
        "    plt.figure(figsize=(6, 5))\n",
        "    plt.plot(fpr, tpr, color='darkorange', lw=2, label=f'ROC curve (AUC = {roc_auc:.2f})')\n",
        "    plt.plot([0, 1], [0, 1], color='navy', lw=2, linestyle='--')\n",
        "    plt.xlabel('False Positive Rate')\n",
        "    plt.ylabel('True Positive Rate')\n",
        "    plt.title(f'{model_name} ROC Curve')\n",
        "    plt.legend(loc=\"lower right\")\n",
        "\n",
        "    roc_path = fr'C:\\Users\\gabel\\Desktop\\Models to Evaluate\\Graph Images\\DropOutANDL2AndOverSamplingROC.png'\n",
        "    plt.savefig(roc_path)\n",
        "    print(f\"ROC curve saved to: {roc_path}\")\n",
        "    plt.close()\n",
        "\n",
        "    return {\n",
        "        'accuracy': (y_pred == y_true).mean(),\n",
        "        'auc': roc_auc,\n",
        "        'y_true': y_true,\n",
        "        'y_pred': y_pred,\n",
        "        'y_pred_prob': y_pred_prob,\n",
        "        'confusion_matrix': cm\n",
        "    }\n",
        "\n",
        "results = evaluate_model(model, test_gen, len(test_gen), model_name=\"Custom RNN Dropout and L2 And Oversampling\")\n",
        "\n",
        "print(f\"\\n Final Accuracy: {results['accuracy']:.4f}, AUC: {results['auc']:.4f}\")\n",
        "\n",
        "print(\"\\nConfusion Matrix:\")\n",
        "print(results['confusion_matrix'])"
      ]
    },
    {
      "cell_type": "code",
      "execution_count": null,
      "metadata": {},
      "outputs": [
        {
          "data": {
            "text/html": [
              "<pre style=\"white-space:pre;overflow-x:auto;line-height:normal;font-family:Menlo,'DejaVu Sans Mono',consolas,'Courier New',monospace\"><span style=\"font-weight: bold\">Model: \"simple_cnn_model\"</span>\n",
              "</pre>\n"
            ],
            "text/plain": [
              "\u001b[1mModel: \"simple_cnn_model\"\u001b[0m\n"
            ]
          },
          "metadata": {},
          "output_type": "display_data"
        },
        {
          "data": {
            "text/html": [
              "<pre style=\"white-space:pre;overflow-x:auto;line-height:normal;font-family:Menlo,'DejaVu Sans Mono',consolas,'Courier New',monospace\">┏━━━━━━━━━━━━━━━━━━━━━━━━━━━━━━━━━┳━━━━━━━━━━━━━━━━━━━━━━━━┳━━━━━━━━━━━━━━━┓\n",
              "┃<span style=\"font-weight: bold\"> Layer (type)                    </span>┃<span style=\"font-weight: bold\"> Output Shape           </span>┃<span style=\"font-weight: bold\">       Param # </span>┃\n",
              "┡━━━━━━━━━━━━━━━━━━━━━━━━━━━━━━━━━╇━━━━━━━━━━━━━━━━━━━━━━━━╇━━━━━━━━━━━━━━━┩\n",
              "│ conv2d (<span style=\"color: #0087ff; text-decoration-color: #0087ff\">Conv2D</span>)                 │ (<span style=\"color: #00d7ff; text-decoration-color: #00d7ff\">None</span>, <span style=\"color: #00af00; text-decoration-color: #00af00\">600</span>, <span style=\"color: #00af00; text-decoration-color: #00af00\">600</span>, <span style=\"color: #00af00; text-decoration-color: #00af00\">32</span>)   │         <span style=\"color: #00af00; text-decoration-color: #00af00\">2,432</span> │\n",
              "├─────────────────────────────────┼────────────────────────┼───────────────┤\n",
              "│ max_pooling2d (<span style=\"color: #0087ff; text-decoration-color: #0087ff\">MaxPooling2D</span>)    │ (<span style=\"color: #00d7ff; text-decoration-color: #00d7ff\">None</span>, <span style=\"color: #00af00; text-decoration-color: #00af00\">300</span>, <span style=\"color: #00af00; text-decoration-color: #00af00\">300</span>, <span style=\"color: #00af00; text-decoration-color: #00af00\">32</span>)   │             <span style=\"color: #00af00; text-decoration-color: #00af00\">0</span> │\n",
              "├─────────────────────────────────┼────────────────────────┼───────────────┤\n",
              "│ conv2d_1 (<span style=\"color: #0087ff; text-decoration-color: #0087ff\">Conv2D</span>)               │ (<span style=\"color: #00d7ff; text-decoration-color: #00d7ff\">None</span>, <span style=\"color: #00af00; text-decoration-color: #00af00\">300</span>, <span style=\"color: #00af00; text-decoration-color: #00af00\">300</span>, <span style=\"color: #00af00; text-decoration-color: #00af00\">64</span>)   │        <span style=\"color: #00af00; text-decoration-color: #00af00\">18,496</span> │\n",
              "├─────────────────────────────────┼────────────────────────┼───────────────┤\n",
              "│ max_pooling2d_1 (<span style=\"color: #0087ff; text-decoration-color: #0087ff\">MaxPooling2D</span>)  │ (<span style=\"color: #00d7ff; text-decoration-color: #00d7ff\">None</span>, <span style=\"color: #00af00; text-decoration-color: #00af00\">150</span>, <span style=\"color: #00af00; text-decoration-color: #00af00\">150</span>, <span style=\"color: #00af00; text-decoration-color: #00af00\">64</span>)   │             <span style=\"color: #00af00; text-decoration-color: #00af00\">0</span> │\n",
              "├─────────────────────────────────┼────────────────────────┼───────────────┤\n",
              "│ flatten (<span style=\"color: #0087ff; text-decoration-color: #0087ff\">Flatten</span>)               │ (<span style=\"color: #00d7ff; text-decoration-color: #00d7ff\">None</span>, <span style=\"color: #00af00; text-decoration-color: #00af00\">1440000</span>)        │             <span style=\"color: #00af00; text-decoration-color: #00af00\">0</span> │\n",
              "├─────────────────────────────────┼────────────────────────┼───────────────┤\n",
              "│ dropout (<span style=\"color: #0087ff; text-decoration-color: #0087ff\">Dropout</span>)               │ (<span style=\"color: #00d7ff; text-decoration-color: #00d7ff\">None</span>, <span style=\"color: #00af00; text-decoration-color: #00af00\">1440000</span>)        │             <span style=\"color: #00af00; text-decoration-color: #00af00\">0</span> │\n",
              "├─────────────────────────────────┼────────────────────────┼───────────────┤\n",
              "│ dense (<span style=\"color: #0087ff; text-decoration-color: #0087ff\">Dense</span>)                   │ (<span style=\"color: #00d7ff; text-decoration-color: #00d7ff\">None</span>, <span style=\"color: #00af00; text-decoration-color: #00af00\">256</span>)            │   <span style=\"color: #00af00; text-decoration-color: #00af00\">368,640,256</span> │\n",
              "├─────────────────────────────────┼────────────────────────┼───────────────┤\n",
              "│ dropout_1 (<span style=\"color: #0087ff; text-decoration-color: #0087ff\">Dropout</span>)             │ (<span style=\"color: #00d7ff; text-decoration-color: #00d7ff\">None</span>, <span style=\"color: #00af00; text-decoration-color: #00af00\">256</span>)            │             <span style=\"color: #00af00; text-decoration-color: #00af00\">0</span> │\n",
              "├─────────────────────────────────┼────────────────────────┼───────────────┤\n",
              "│ dense_1 (<span style=\"color: #0087ff; text-decoration-color: #0087ff\">Dense</span>)                 │ (<span style=\"color: #00d7ff; text-decoration-color: #00d7ff\">None</span>, <span style=\"color: #00af00; text-decoration-color: #00af00\">1</span>)              │           <span style=\"color: #00af00; text-decoration-color: #00af00\">257</span> │\n",
              "└─────────────────────────────────┴────────────────────────┴───────────────┘\n",
              "</pre>\n"
            ],
            "text/plain": [
              "┏━━━━━━━━━━━━━━━━━━━━━━━━━━━━━━━━━┳━━━━━━━━━━━━━━━━━━━━━━━━┳━━━━━━━━━━━━━━━┓\n",
              "┃\u001b[1m \u001b[0m\u001b[1mLayer (type)                   \u001b[0m\u001b[1m \u001b[0m┃\u001b[1m \u001b[0m\u001b[1mOutput Shape          \u001b[0m\u001b[1m \u001b[0m┃\u001b[1m \u001b[0m\u001b[1m      Param #\u001b[0m\u001b[1m \u001b[0m┃\n",
              "┡━━━━━━━━━━━━━━━━━━━━━━━━━━━━━━━━━╇━━━━━━━━━━━━━━━━━━━━━━━━╇━━━━━━━━━━━━━━━┩\n",
              "│ conv2d (\u001b[38;5;33mConv2D\u001b[0m)                 │ (\u001b[38;5;45mNone\u001b[0m, \u001b[38;5;34m600\u001b[0m, \u001b[38;5;34m600\u001b[0m, \u001b[38;5;34m32\u001b[0m)   │         \u001b[38;5;34m2,432\u001b[0m │\n",
              "├─────────────────────────────────┼────────────────────────┼───────────────┤\n",
              "│ max_pooling2d (\u001b[38;5;33mMaxPooling2D\u001b[0m)    │ (\u001b[38;5;45mNone\u001b[0m, \u001b[38;5;34m300\u001b[0m, \u001b[38;5;34m300\u001b[0m, \u001b[38;5;34m32\u001b[0m)   │             \u001b[38;5;34m0\u001b[0m │\n",
              "├─────────────────────────────────┼────────────────────────┼───────────────┤\n",
              "│ conv2d_1 (\u001b[38;5;33mConv2D\u001b[0m)               │ (\u001b[38;5;45mNone\u001b[0m, \u001b[38;5;34m300\u001b[0m, \u001b[38;5;34m300\u001b[0m, \u001b[38;5;34m64\u001b[0m)   │        \u001b[38;5;34m18,496\u001b[0m │\n",
              "├─────────────────────────────────┼────────────────────────┼───────────────┤\n",
              "│ max_pooling2d_1 (\u001b[38;5;33mMaxPooling2D\u001b[0m)  │ (\u001b[38;5;45mNone\u001b[0m, \u001b[38;5;34m150\u001b[0m, \u001b[38;5;34m150\u001b[0m, \u001b[38;5;34m64\u001b[0m)   │             \u001b[38;5;34m0\u001b[0m │\n",
              "├─────────────────────────────────┼────────────────────────┼───────────────┤\n",
              "│ flatten (\u001b[38;5;33mFlatten\u001b[0m)               │ (\u001b[38;5;45mNone\u001b[0m, \u001b[38;5;34m1440000\u001b[0m)        │             \u001b[38;5;34m0\u001b[0m │\n",
              "├─────────────────────────────────┼────────────────────────┼───────────────┤\n",
              "│ dropout (\u001b[38;5;33mDropout\u001b[0m)               │ (\u001b[38;5;45mNone\u001b[0m, \u001b[38;5;34m1440000\u001b[0m)        │             \u001b[38;5;34m0\u001b[0m │\n",
              "├─────────────────────────────────┼────────────────────────┼───────────────┤\n",
              "│ dense (\u001b[38;5;33mDense\u001b[0m)                   │ (\u001b[38;5;45mNone\u001b[0m, \u001b[38;5;34m256\u001b[0m)            │   \u001b[38;5;34m368,640,256\u001b[0m │\n",
              "├─────────────────────────────────┼────────────────────────┼───────────────┤\n",
              "│ dropout_1 (\u001b[38;5;33mDropout\u001b[0m)             │ (\u001b[38;5;45mNone\u001b[0m, \u001b[38;5;34m256\u001b[0m)            │             \u001b[38;5;34m0\u001b[0m │\n",
              "├─────────────────────────────────┼────────────────────────┼───────────────┤\n",
              "│ dense_1 (\u001b[38;5;33mDense\u001b[0m)                 │ (\u001b[38;5;45mNone\u001b[0m, \u001b[38;5;34m1\u001b[0m)              │           \u001b[38;5;34m257\u001b[0m │\n",
              "└─────────────────────────────────┴────────────────────────┴───────────────┘\n"
            ]
          },
          "metadata": {},
          "output_type": "display_data"
        },
        {
          "data": {
            "text/html": [
              "<pre style=\"white-space:pre;overflow-x:auto;line-height:normal;font-family:Menlo,'DejaVu Sans Mono',consolas,'Courier New',monospace\"><span style=\"font-weight: bold\"> Total params: </span><span style=\"color: #00af00; text-decoration-color: #00af00\">1,105,984,325</span> (4.12 GB)\n",
              "</pre>\n"
            ],
            "text/plain": [
              "\u001b[1m Total params: \u001b[0m\u001b[38;5;34m1,105,984,325\u001b[0m (4.12 GB)\n"
            ]
          },
          "metadata": {},
          "output_type": "display_data"
        },
        {
          "data": {
            "text/html": [
              "<pre style=\"white-space:pre;overflow-x:auto;line-height:normal;font-family:Menlo,'DejaVu Sans Mono',consolas,'Courier New',monospace\"><span style=\"font-weight: bold\"> Trainable params: </span><span style=\"color: #00af00; text-decoration-color: #00af00\">368,661,441</span> (1.37 GB)\n",
              "</pre>\n"
            ],
            "text/plain": [
              "\u001b[1m Trainable params: \u001b[0m\u001b[38;5;34m368,661,441\u001b[0m (1.37 GB)\n"
            ]
          },
          "metadata": {},
          "output_type": "display_data"
        },
        {
          "data": {
            "text/html": [
              "<pre style=\"white-space:pre;overflow-x:auto;line-height:normal;font-family:Menlo,'DejaVu Sans Mono',consolas,'Courier New',monospace\"><span style=\"font-weight: bold\"> Non-trainable params: </span><span style=\"color: #00af00; text-decoration-color: #00af00\">0</span> (0.00 B)\n",
              "</pre>\n"
            ],
            "text/plain": [
              "\u001b[1m Non-trainable params: \u001b[0m\u001b[38;5;34m0\u001b[0m (0.00 B)\n"
            ]
          },
          "metadata": {},
          "output_type": "display_data"
        },
        {
          "data": {
            "text/html": [
              "<pre style=\"white-space:pre;overflow-x:auto;line-height:normal;font-family:Menlo,'DejaVu Sans Mono',consolas,'Courier New',monospace\"><span style=\"font-weight: bold\"> Optimizer params: </span><span style=\"color: #00af00; text-decoration-color: #00af00\">737,322,884</span> (2.75 GB)\n",
              "</pre>\n"
            ],
            "text/plain": [
              "\u001b[1m Optimizer params: \u001b[0m\u001b[38;5;34m737,322,884\u001b[0m (2.75 GB)\n"
            ]
          },
          "metadata": {},
          "output_type": "display_data"
        }
      ],
      "source": [
        "model.summary()"
      ]
    }
  ],
  "metadata": {
    "colab": {
      "provenance": []
    },
    "kernelspec": {
      "display_name": "Python 3",
      "name": "python3"
    },
    "language_info": {
      "codemirror_mode": {
        "name": "ipython",
        "version": 3
      },
      "file_extension": ".py",
      "mimetype": "text/x-python",
      "name": "python",
      "nbconvert_exporter": "python",
      "pygments_lexer": "ipython3",
      "version": "3.12.3"
    }
  },
  "nbformat": 4,
  "nbformat_minor": 0
}
